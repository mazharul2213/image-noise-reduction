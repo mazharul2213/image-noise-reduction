{
 "cells": [
  {
   "cell_type": "code",
   "execution_count": 35,
   "metadata": {},
   "outputs": [
    {
     "data": {
      "text/plain": [
       "'\\n\\nfig, axs = plt.subplots(nrows = 1, ncols = 4, figsize = (20, 20))\\nfor ind, p in enumerate(images):\\n    ax = axs[ind]\\n    ax.imshow(p)\\nplt.show()\\n\\n'"
      ]
     },
     "execution_count": 35,
     "metadata": {},
     "output_type": "execute_result"
    }
   ],
   "source": [
    "import cv2\n",
    "import numpy as np\n",
    "from matplotlib import pyplot as plt\n",
    "\n",
    "img = cv2.imread('images/sc_4.png',0)\n",
    "\n",
    "# global thresholding\n",
    "ret1,th1 = cv2.threshold(img,140,255,cv2.THRESH_BINARY)\n",
    "\n",
    "# Otsu's thresholding\n",
    "ret2,th2 = cv2.threshold(img,140,255,cv2.THRESH_BINARY+cv2.THRESH_OTSU)\n",
    "\n",
    "# Otsu's thresholding after Gaussian filtering\n",
    "blur = cv2.medianBlur(img, 3)\n",
    "#blur = cv2.GaussianBlur(img,(5,5), 3)\n",
    "ret3,th3 = cv2.threshold(blur,100,255,cv2.THRESH_BINARY+cv2.THRESH_OTSU)\n",
    "\n",
    "\n",
    "cv2.imwrite(\"im4.jpg\", th3)\n",
    "\n",
    "# plot all the images and their histograms\n",
    "#images = [img,  th1, th2, th3]\n",
    "\n",
    "\n",
    "#cv2.imwrite(\"im1.jpg\", img)\n",
    "#cv2.imwrite(\"im2.jpg\", th1)\n",
    "#cv2.imwrite(\"im3.jpg\", th2)\n",
    "'''\n",
    "\n",
    "fig, axs = plt.subplots(nrows = 1, ncols = 4, figsize = (20, 20))\n",
    "for ind, p in enumerate(images):\n",
    "    ax = axs[ind]\n",
    "    ax.imshow(p)\n",
    "plt.show()\n",
    "\n",
    "'''\n"
   ]
  },
  {
   "cell_type": "code",
   "execution_count": null,
   "metadata": {},
   "outputs": [],
   "source": []
  }
 ],
 "metadata": {
  "kernelspec": {
   "display_name": "Python 3",
   "language": "python",
   "name": "python3"
  },
  "language_info": {
   "codemirror_mode": {
    "name": "ipython",
    "version": 3
   },
   "file_extension": ".py",
   "mimetype": "text/x-python",
   "name": "python",
   "nbconvert_exporter": "python",
   "pygments_lexer": "ipython3",
   "version": "3.7.6"
  }
 },
 "nbformat": 4,
 "nbformat_minor": 4
}
